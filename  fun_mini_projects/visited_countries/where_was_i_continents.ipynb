{
  "nbformat": 4,
  "nbformat_minor": 0,
  "metadata": {
    "colab": {
      "name": "where_was_i_continents.ipynb",
      "provenance": [],
      "collapsed_sections": []
    },
    "kernelspec": {
      "name": "python3",
      "display_name": "Python 3"
    }
  },
  "cells": [
    {
      "cell_type": "markdown",
      "metadata": {
        "id": "aIhr6Gx_znrI"
      },
      "source": [
        "# Creating my personal visited continents video"
      ]
    },
    {
      "cell_type": "markdown",
      "metadata": {
        "id": "e7Qdd52PyxnB"
      },
      "source": [
        "## Imports"
      ]
    },
    {
      "cell_type": "code",
      "metadata": {
        "id": "nER9PySV6iCB",
        "colab": {
          "base_uri": "https://localhost:8080/"
        },
        "outputId": "f0393b1e-8861-4f47-be53-c4273d2ccbdd"
      },
      "source": [
        "!pip uninstall shapely\n",
        "!pip install shapely --no-binary shapely\n",
        "!apt-get -qq install python-cartopy python3-cartopy\n",
        "import cartopy.crs as ccrs\n",
        "import cv2\n",
        "import cartopy.io.shapereader as shpreader\n",
        "import itertools\n",
        "import matplotlib.pyplot as plt\n",
        "import matplotlib.image as mpimg\n",
        "import numpy as np\n",
        "%matplotlib inline"
      ],
      "execution_count": 1,
      "outputs": [
        {
          "output_type": "stream",
          "text": [
            "Uninstalling Shapely-1.6.4:\n",
            "  Would remove:\n",
            "    /usr/lib/python3/dist-packages/Shapely-1.6.4.egg-info\n",
            "    /usr/lib/python3/dist-packages/shapely\n",
            "Proceed (y/n)? y\n",
            "  Successfully uninstalled Shapely-1.6.4\n",
            "Collecting shapely\n",
            "\u001b[?25l  Downloading https://files.pythonhosted.org/packages/42/f3/0e1bc2c4f15e05e30c6b99322b9ddaa2babb3f43bc7df2698efdc1553439/Shapely-1.7.1.tar.gz (383kB)\n",
            "\u001b[K     |████████████████████████████████| 389kB 10.0MB/s \n",
            "\u001b[?25hSkipping wheel build for shapely, due to binaries being disabled for it.\n",
            "\u001b[31mERROR: albumentations 0.1.12 has requirement imgaug<0.2.7,>=0.2.5, but you'll have imgaug 0.2.9 which is incompatible.\u001b[0m\n",
            "Installing collected packages: shapely\n",
            "    Running setup.py install for shapely ... \u001b[?25l\u001b[?25hdone\n",
            "Successfully installed shapely-1.7.1\n"
          ],
          "name": "stdout"
        }
      ]
    },
    {
      "cell_type": "code",
      "metadata": {
        "id": "I7UCx8jzzz56",
        "colab": {
          "base_uri": "https://localhost:8080/"
        },
        "outputId": "c7535d64-3dc0-4001-9055-13487e29cb17"
      },
      "source": [
        "!pip install pycountry_convert\n",
        "import pycountry_convert as pc"
      ],
      "execution_count": 2,
      "outputs": [
        {
          "output_type": "stream",
          "text": [
            "Requirement already satisfied: pycountry_convert in /usr/local/lib/python3.6/dist-packages (0.7.2)\n",
            "Requirement already satisfied: repoze.lru>=0.7 in /usr/local/lib/python3.6/dist-packages (from pycountry_convert) (0.7)\n",
            "Requirement already satisfied: pycountry>=16.11.27.1 in /usr/local/lib/python3.6/dist-packages (from pycountry_convert) (20.7.3)\n",
            "Requirement already satisfied: pytest-mock>=1.6.3 in /usr/local/lib/python3.6/dist-packages (from pycountry_convert) (3.3.1)\n",
            "Requirement already satisfied: pprintpp>=0.3.0 in /usr/local/lib/python3.6/dist-packages (from pycountry_convert) (0.4.0)\n",
            "Requirement already satisfied: wheel>=0.30.0 in /usr/local/lib/python3.6/dist-packages (from pycountry_convert) (0.35.1)\n",
            "Requirement already satisfied: pytest-cov>=2.5.1 in /usr/local/lib/python3.6/dist-packages (from pycountry_convert) (2.10.1)\n",
            "Requirement already satisfied: pytest>=3.4.0 in /usr/local/lib/python3.6/dist-packages (from pycountry_convert) (3.6.4)\n",
            "Requirement already satisfied: coverage>=4.4 in /usr/local/lib/python3.6/dist-packages (from pytest-cov>=2.5.1->pycountry_convert) (5.3)\n",
            "Requirement already satisfied: setuptools in /usr/local/lib/python3.6/dist-packages (from pytest>=3.4.0->pycountry_convert) (50.3.2)\n",
            "Requirement already satisfied: pluggy<0.8,>=0.5 in /usr/local/lib/python3.6/dist-packages (from pytest>=3.4.0->pycountry_convert) (0.7.1)\n",
            "Requirement already satisfied: attrs>=17.4.0 in /usr/local/lib/python3.6/dist-packages (from pytest>=3.4.0->pycountry_convert) (20.3.0)\n",
            "Requirement already satisfied: py>=1.5.0 in /usr/local/lib/python3.6/dist-packages (from pytest>=3.4.0->pycountry_convert) (1.9.0)\n",
            "Requirement already satisfied: atomicwrites>=1.0 in /usr/local/lib/python3.6/dist-packages (from pytest>=3.4.0->pycountry_convert) (1.4.0)\n",
            "Requirement already satisfied: six>=1.10.0 in /usr/local/lib/python3.6/dist-packages (from pytest>=3.4.0->pycountry_convert) (1.15.0)\n",
            "Requirement already satisfied: more-itertools>=4.0.0 in /usr/local/lib/python3.6/dist-packages (from pytest>=3.4.0->pycountry_convert) (8.6.0)\n"
          ],
          "name": "stdout"
        }
      ]
    },
    {
      "cell_type": "code",
      "metadata": {
        "id": "Jk0rFYtw0Spp"
      },
      "source": [
        "def country_to_continent(country_name):\n",
        "    country_alpha2 = pc.country_name_to_country_alpha2(country_name)\n",
        "    country_continent_code = pc.country_alpha2_to_continent_code(country_alpha2)\n",
        "    country_continent_name = pc.convert_continent_code_to_continent_name(country_continent_code)\n",
        "    return country_continent_name.upper()\n",
        "\n",
        "def country_list_to_continent_set(country_list):\n",
        "    return set(map(country_to_continent, country_list))"
      ],
      "execution_count": 3,
      "outputs": []
    },
    {
      "cell_type": "markdown",
      "metadata": {
        "id": "MpVbId1py05q"
      },
      "source": [
        "## Consts"
      ]
    },
    {
      "cell_type": "code",
      "metadata": {
        "id": "bsFoRd7AHzsB"
      },
      "source": [
        "CONTINENT_COLOR = np.array([(35, 139, 69)]) / 255.\n",
        "DEFAULT_COLOR = np.zeros(3)\n",
        "\n",
        "VISITED_COUNTRIES_BY_YEAR = {2019: [\"Argentina\", \"Brazil\", \"Chile\", \"Bolivia\", \"Peru\", \"Ecuador\", \"Colombia\"], \n",
        "                             2018: [\"United Republic of Tanzania\", \"Czechia\", \"Bosnia and Herzegovina\"],\n",
        "                             2017: [\"France\", \"Switzerland\", \"Germany\", \"Austria\"],\n",
        "                             2016: [\"Jordan\", \"United States of America\", \"Germany\", \"Vietnam\"],\n",
        "                             2015: [\"United States of America\", \"Kyrgyzstan\"],\n",
        "                             2014: [\"Albania\", \"Montenegro\"],\n",
        "                             2013: [\"Georgia\"],\n",
        "                             2012: [\"Nepal\"],\n",
        "                             2010: [\"South Korea\", \"New Zealand\"],\n",
        "                             2008: [\"Spain\"],\n",
        "                             2004: [\"Poland\"],\n",
        "                             2003: [\"Russia\"],\n",
        "                             2002: [\"Netherlands\"],\n",
        "                             2000: [\"Italy\"],\n",
        "                             1990: [\"Israel\"],\n",
        "                             1987: [\"Russia\"]}"
      ],
      "execution_count": 4,
      "outputs": []
    },
    {
      "cell_type": "code",
      "metadata": {
        "id": "J0ANe2930Jjo",
        "colab": {
          "base_uri": "https://localhost:8080/"
        },
        "outputId": "d93276ad-19a5-482f-deca-72985c394df1"
      },
      "source": [
        "continents_by_year = {y: country_list_to_continent_set(c) for y,c in VISITED_COUNTRIES_BY_YEAR.items()}\n",
        "continents_by_year"
      ],
      "execution_count": 5,
      "outputs": [
        {
          "output_type": "execute_result",
          "data": {
            "text/plain": [
              "{1987: {'EUROPE'},\n",
              " 1990: {'ASIA'},\n",
              " 2000: {'EUROPE'},\n",
              " 2002: {'EUROPE'},\n",
              " 2003: {'EUROPE'},\n",
              " 2004: {'EUROPE'},\n",
              " 2008: {'EUROPE'},\n",
              " 2010: {'ASIA', 'OCEANIA'},\n",
              " 2012: {'ASIA'},\n",
              " 2013: {'ASIA'},\n",
              " 2014: {'EUROPE'},\n",
              " 2015: {'ASIA', 'NORTH AMERICA'},\n",
              " 2016: {'ASIA', 'EUROPE', 'NORTH AMERICA'},\n",
              " 2017: {'EUROPE'},\n",
              " 2018: {'AFRICA', 'EUROPE'},\n",
              " 2019: {'SOUTH AMERICA'}}"
            ]
          },
          "metadata": {
            "tags": []
          },
          "execution_count": 5
        }
      ]
    },
    {
      "cell_type": "code",
      "metadata": {
        "id": "AgbqMWHS2Gqd"
      },
      "source": [
        "continents_by_year[2019].add('ANTARCTICA')"
      ],
      "execution_count": 6,
      "outputs": []
    },
    {
      "cell_type": "markdown",
      "metadata": {
        "id": "cI1r0-7uy3-F"
      },
      "source": [
        "## Read continents data\n",
        "(from [NaturalEarthData](https://www.naturalearthdata.com/) website)"
      ]
    },
    {
      "cell_type": "code",
      "metadata": {
        "id": "Ks_MJe11ytIq"
      },
      "source": [
        "shapename = 'geography_regions_polys'\n",
        "areas_shp = shpreader.natural_earth(resolution='110m', name=shapename)"
      ],
      "execution_count": 7,
      "outputs": []
    },
    {
      "cell_type": "code",
      "metadata": {
        "id": "qtslOxKf1Ut2"
      },
      "source": [
        "def process_all_continents(ax):\n",
        "    \"\"\"\n",
        "    Draw all continents in default color and create a map of continent names\n",
        "    \"\"\"\n",
        "    continent_name_to_record = {}\n",
        "    for area in shpreader.Reader(areas_shp).records():\n",
        "        area_type = area.attributes['featurecla']\n",
        "        if area_type == 'Continent':\n",
        "            continent_name = area.attributes['name'].upper()\n",
        "            continent_name_to_record[continent_name] = area\n",
        "            ax.add_geometries(area.geometry, ccrs.PlateCarree(),\n",
        "                              facecolor=DEFAULT_COLOR, label=continent_name)\n",
        "    return continent_name_to_record"
      ],
      "execution_count": 8,
      "outputs": []
    },
    {
      "cell_type": "code",
      "metadata": {
        "id": "Uexrso242MyU"
      },
      "source": [
        "def color_visited(continent_name_to_record, ax):\n",
        "  \"\"\"\n",
        "  Generate figure for every year with the continents visited so far\n",
        "  \"\"\"\n",
        "  img_files = []\n",
        "  sorted_years = sorted(continents_by_year.keys())\n",
        "  visited_set = set()\n",
        "  for year in range(sorted_years[0], sorted_years[-1]+1):\n",
        "    if year in continents_by_year:\n",
        "      visited = continents_by_year[year]\n",
        "    else:\n",
        "      visited = None\n",
        "    if visited is not None:\n",
        "      for continent_name, continent in continent_name_to_record.items():\n",
        "        if continent_name in visited:\n",
        "          ax.add_geometries(continent.geometry, ccrs.PlateCarree(),\n",
        "                       facecolor=CONTINENT_COLOR,\n",
        "                       label=continent_name)\n",
        "          visited_set.add(continent_name)\n",
        "\n",
        "    # add text\n",
        "    year_itm = ax.text(0.15, 0.2, year, fontsize=15, color = \"red\", \n",
        "        ha='center', va='center', transform=ax.transAxes)\n",
        "    count_itm = ax.text(0.9, 0.2, len(visited_set), fontsize=15, color = \"red\", \n",
        "        ha='center', va='center', transform=ax.transAxes)\n",
        "    \n",
        "    img_file = \"{}.png\".format(year)\n",
        "    plt.savefig(img_file, bbox_inches='tight', pad_inches=0)\n",
        "    img_files.append(img_file)\n",
        "\n",
        "    # prevent writing text over the next instances\n",
        "    year_itm.set_visible(False)\n",
        "    count_itm.set_visible(False)\n",
        "\n",
        "  return img_files"
      ],
      "execution_count": 9,
      "outputs": []
    },
    {
      "cell_type": "code",
      "metadata": {
        "id": "cihaDlvf6XMA"
      },
      "source": [
        "plt.figure(figsize=(10,10))\n",
        "ax = plt.axes(projection=ccrs.PlateCarree())\n",
        "\n",
        "continent_name_to_record = process_all_continents(ax)\n",
        "img_files = color_visited(continent_name_to_record, ax)\n",
        "\n",
        "plt.close()"
      ],
      "execution_count": 10,
      "outputs": []
    },
    {
      "cell_type": "code",
      "metadata": {
        "id": "dqXu16AR654q",
        "colab": {
          "base_uri": "https://localhost:8080/",
          "height": 218
        },
        "outputId": "df2be844-0641-41a5-b9f4-58bd02a5fcaf"
      },
      "source": [
        "# see last image\n",
        "img = mpimg.imread(img_files[-1])\n",
        "plt.imshow(img);"
      ],
      "execution_count": 11,
      "outputs": [
        {
          "output_type": "display_data",
          "data": {
            "image/png": "[encoded data removed]",
            "text/plain": [
              "<Figure size 432x288 with 1 Axes>"
            ]
          },
          "metadata": {
            "tags": [],
            "needs_background": "light"
          }
        }
      ]
    },
    {
      "cell_type": "markdown",
      "metadata": {
        "id": "QMcREAEZ0Srb"
      },
      "source": [
        "## Generate video"
      ]
    },
    {
      "cell_type": "code",
      "metadata": {
        "id": "JHP8fK4RA9Dw"
      },
      "source": [
        "img_array = []\n",
        "for filename in img_files:\n",
        "    img = cv2.imread(filename)\n",
        "    height, width, layers = img.shape\n",
        "    size = (width,height)\n",
        "    img_array.append(img)\n",
        "\n",
        "out_video = \"where_was_i_continents.mp4\" \n",
        "fourcc = cv2.VideoWriter_fourcc(*'mp4v') \n",
        "out = cv2.VideoWriter(out_video,fourcc,1,(width,height)) \n",
        "for i in range(len(img_array)):\n",
        "    out.write(img_array[i])\n",
        "\n",
        "# write last image 3 times to let it linger\n",
        "out.write(img_array[i])\n",
        "out.write(img_array[i])\n",
        "\n",
        "out.release()"
      ],
      "execution_count": 12,
      "outputs": []
    },
    {
      "cell_type": "code",
      "metadata": {
        "id": "TxMCYWhoE_pO",
        "colab": {
          "base_uri": "https://localhost:8080/",
          "height": 17
        },
        "outputId": "d86562bb-e3e6-43f8-e266-bef68f557999"
      },
      "source": [
        "from google.colab import files\n",
        "files.download(out_video) "
      ],
      "execution_count": 13,
      "outputs": [
        {
          "output_type": "display_data",
          "data": {
            "application/javascript": [
              "\n",
              "    async function download(id, filename, size) {\n",
              "      if (!google.colab.kernel.accessAllowed) {\n",
              "        return;\n",
              "      }\n",
              "      const div = document.createElement('div');\n",
              "      const label = document.createElement('label');\n",
              "      label.textContent = `Downloading \"${filename}\": `;\n",
              "      div.appendChild(label);\n",
              "      const progress = document.createElement('progress');\n",
              "      progress.max = size;\n",
              "      div.appendChild(progress);\n",
              "      document.body.appendChild(div);\n",
              "\n",
              "      const buffers = [];\n",
              "      let downloaded = 0;\n",
              "\n",
              "      const channel = await google.colab.kernel.comms.open(id);\n",
              "      // Send a message to notify the kernel that we're ready.\n",
              "      channel.send({})\n",
              "\n",
              "      for await (const message of channel.messages) {\n",
              "        // Send a message to notify the kernel that we're ready.\n",
              "        channel.send({})\n",
              "        if (message.buffers) {\n",
              "          for (const buffer of message.buffers) {\n",
              "            buffers.push(buffer);\n",
              "            downloaded += buffer.byteLength;\n",
              "            progress.value = downloaded;\n",
              "          }\n",
              "        }\n",
              "      }\n",
              "      const blob = new Blob(buffers, {type: 'application/binary'});\n",
              "      const a = document.createElement('a');\n",
              "      a.href = window.URL.createObjectURL(blob);\n",
              "      a.download = filename;\n",
              "      div.appendChild(a);\n",
              "      a.click();\n",
              "      div.remove();\n",
              "    }\n",
              "  "
            ],
            "text/plain": [
              "<IPython.core.display.Javascript object>"
            ]
          },
          "metadata": {
            "tags": []
          }
        },
        {
          "output_type": "display_data",
          "data": {
            "application/javascript": [
              "download(\"download_2cfcaf2d-9ec9-4a42-a06f-3286532dbb09\", \"where_was_i_continents.mp4\", 109528)"
            ],
            "text/plain": [
              "<IPython.core.display.Javascript object>"
            ]
          },
          "metadata": {
            "tags": []
          }
        }
      ]
    }
  ]
}