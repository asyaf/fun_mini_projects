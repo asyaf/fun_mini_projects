{
  "nbformat": 4,
  "nbformat_minor": 0,
  "metadata": {
    "colab": {
      "name": "where_was_i.ipynb",
      "provenance": [],
      "collapsed_sections": [],
      "include_colab_link": true
    },
    "kernelspec": {
      "name": "python3",
      "display_name": "Python 3"
    }
  },
  "cells": [
    {
      "cell_type": "markdown",
      "metadata": {
        "id": "view-in-github",
        "colab_type": "text"
      },
      "source": [
        "<a href=\"https://colab.research.google.com/github/asyaf/fun_mini_projects/blob/master/visited%20countries%20visualization/where_was_i.ipynb\" target=\"_parent\"><img src=\"https://colab.research.google.com/assets/colab-badge.svg\" alt=\"Open In Colab\"/></a>"
      ]
    },
    {
      "cell_type": "markdown",
      "metadata": {
        "id": "aIhr6Gx_znrI",
        "colab_type": "text"
      },
      "source": [
        "# Creating my personal visited countries video"
      ]
    },
    {
      "cell_type": "markdown",
      "metadata": {
        "id": "e7Qdd52PyxnB",
        "colab_type": "text"
      },
      "source": [
        "## Imports"
      ]
    },
    {
      "cell_type": "code",
      "metadata": {
        "id": "nER9PySV6iCB",
        "colab_type": "code",
        "colab": {}
      },
      "source": [
        "!apt-get -qq install python-cartopy python3-cartopy\n",
        "import cartopy.crs as ccrs\n",
        "import cv2\n",
        "import cartopy.io.shapereader as shpreader\n",
        "import itertools\n",
        "import matplotlib.pyplot as plt\n",
        "import matplotlib.image as mpimg\n",
        "import numpy as np\n",
        "%matplotlib inline"
      ],
      "execution_count": 0,
      "outputs": []
    },
    {
      "cell_type": "markdown",
      "metadata": {
        "id": "MpVbId1py05q",
        "colab_type": "text"
      },
      "source": [
        "## Consts"
      ]
    },
    {
      "cell_type": "code",
      "metadata": {
        "id": "bsFoRd7AHzsB",
        "colab_type": "code",
        "colab": {}
      },
      "source": [
        "COUNTRY_COLOR = np.array([(35, 139, 69)]) / 255.\n",
        "DEFAULT_COLOR = np.zeros(3)\n",
        "\n",
        "VISITED_COUNTRIES_BY_YEAR = {2019: [\"Argentina\", \"Brazil\", \"Chile\", \"Bolivia\", \"Peru\", \"Ecuador\", \"Colombia\"], \n",
        "                             2018: [\"United Republic of Tanzania\", \"Czechia\", \"Bosnia and Herzogovina\"],\n",
        "                             2017: [\"France\", \"Switzerland\", \"Germany\", \"Austria\"],\n",
        "                             2016: [\"Jordan\", \"United States of America\", \"Germany\", \"Vietnam\"],\n",
        "                             2015: [\"United States of America\", \"Kyrgistan\"],\n",
        "                             2014: [\"Albania\", \"Montenegro\"],\n",
        "                             2013: [\"Georgia\"],\n",
        "                             2012: [\"Nepal\"],\n",
        "                             2010: [\"South Korea\", \"New Zealand\"],\n",
        "                             2008: [\"Spain\"],\n",
        "                             2004: [\"Poland\"],\n",
        "                             2003: [\"Russia\"],\n",
        "                             2002: [\"Netherlands\"],\n",
        "                             2000: [\"Italy\"],\n",
        "                             1990: [\"Israel\"],\n",
        "                             1987: [\"Russia\"]}"
      ],
      "execution_count": 0,
      "outputs": []
    },
    {
      "cell_type": "markdown",
      "metadata": {
        "id": "cI1r0-7uy3-F",
        "colab_type": "text"
      },
      "source": [
        "## Read countries data\n",
        "(from [NaturalEarthData](https://www.naturalearthdata.com/) website)"
      ]
    },
    {
      "cell_type": "code",
      "metadata": {
        "id": "Ks_MJe11ytIq",
        "colab_type": "code",
        "colab": {}
      },
      "source": [
        "shapename = 'admin_0_countries'\n",
        "countries_shp = shpreader.natural_earth(resolution='110m',\n",
        "                                        category='cultural', name=shapename)"
      ],
      "execution_count": 0,
      "outputs": []
    },
    {
      "cell_type": "code",
      "metadata": {
        "id": "qtslOxKf1Ut2",
        "colab_type": "code",
        "colab": {}
      },
      "source": [
        "def process_all_countries(ax):\n",
        "  \"\"\"\n",
        "  Draw all countries in default color and create a map of coutry names\n",
        "  \"\"\"\n",
        "  country_name_to_record = {}\n",
        "  for country in shpreader.Reader(countries_shp).records():\n",
        "    country_name = country.attributes['ADMIN']\n",
        "    country_name_to_record[country_name] = country\n",
        "    ax.add_geometries(country.geometry, ccrs.PlateCarree(),\n",
        "                       facecolor=DEFAULT_COLOR,\n",
        "                       label=country_name)\n",
        "  return country_name_to_record"
      ],
      "execution_count": 0,
      "outputs": []
    },
    {
      "cell_type": "code",
      "metadata": {
        "id": "Uexrso242MyU",
        "colab_type": "code",
        "colab": {}
      },
      "source": [
        "def color_visited(country_name_to_record, ax):\n",
        "  \"\"\"\n",
        "  Generate figure for every year with the vountries visited so far\n",
        "  \"\"\"\n",
        "  img_files = []\n",
        "  sorted_years = sorted(VISITED_COUNTRIES_BY_YEAR.keys())\n",
        "  visited_set = set()\n",
        "  for year in range(sorted_years[0], sorted_years[-1]+1):\n",
        "    if year in VISITED_COUNTRIES_BY_YEAR:\n",
        "      visited = VISITED_COUNTRIES_BY_YEAR[year]\n",
        "    else:\n",
        "      visited = None\n",
        "    if visited is not None:\n",
        "      for country_name, country in country_name_to_record.items():\n",
        "        # check if country name is contained. Note that official names can \n",
        "        # differ from the \"common\" country name \n",
        "        if country_name in visited:\n",
        "          ax.add_geometries(country.geometry, ccrs.PlateCarree(),\n",
        "                       facecolor=COUNTRY_COLOR,\n",
        "                       label=country_name)\n",
        "          visited_set.add(country_name)\n",
        "\n",
        "    # add text\n",
        "    year_itm = ax.text(0.15, 0.2, year, fontsize=15, color = \"red\", \n",
        "        ha='center', va='center', transform=ax.transAxes)\n",
        "    count_itm = ax.text(0.9, 0.2, len(visited_set), fontsize=15, color = \"red\", \n",
        "        ha='center', va='center', transform=ax.transAxes)\n",
        "    \n",
        "    img_file = \"{}.png\".format(year)\n",
        "    plt.savefig(img_file, bbox_inches='tight', pad_inches=0)\n",
        "    img_files.append(img_file)\n",
        "\n",
        "    # prevent writing text over the next instances\n",
        "    year_itm.set_visible(False)\n",
        "    count_itm.set_visible(False)\n",
        "\n",
        "  return img_files"
      ],
      "execution_count": 0,
      "outputs": []
    },
    {
      "cell_type": "code",
      "metadata": {
        "id": "cihaDlvf6XMA",
        "colab_type": "code",
        "colab": {}
      },
      "source": [
        "plt.figure(figsize=(10,10))\n",
        "ax = plt.axes(projection=ccrs.PlateCarree())\n",
        "\n",
        "country_name_to_record = process_all_countries(ax)\n",
        "img_files = color_visited(country_name_to_record, ax)\n",
        "\n",
        "plt.close()"
      ],
      "execution_count": 0,
      "outputs": []
    },
    {
      "cell_type": "code",
      "metadata": {
        "id": "dqXu16AR654q",
        "colab_type": "code",
        "outputId": "b5ec9959-c606-43ed-d999-2cefcde17830",
        "colab": {
          "base_uri": "https://localhost:8080/",
          "height": 237
        }
      },
      "source": [
        "# see last image\n",
        "img = mpimg.imread(img_files[-1])\n",
        "plt.imshow(img)"
      ],
      "execution_count": 12,
      "outputs": [
        {
          "output_type": "execute_result",
          "data": {
            "text/plain": [
              "<matplotlib.image.AxesImage at 0x7fa6e3fe58d0>"
            ]
          },
          "metadata": {
            "tags": []
          },
          "execution_count": 12
        },
        {
          "output_type": "display_data",
          "data": {
            "image/png": "[encoded data removed]",
            "text/plain": [
              "<Figure size 432x288 with 1 Axes>"
            ]
          },
          "metadata": {
            "tags": []
          }
        }
      ]
    },
    {
      "cell_type": "markdown",
      "metadata": {
        "id": "QMcREAEZ0Srb",
        "colab_type": "text"
      },
      "source": [
        "## Generate video"
      ]
    },
    {
      "cell_type": "code",
      "metadata": {
        "id": "JHP8fK4RA9Dw",
        "colab_type": "code",
        "colab": {}
      },
      "source": [
        "img_array = []\n",
        "for filename in img_files:\n",
        "    img = cv2.imread(filename)\n",
        "    height, width, layers = img.shape\n",
        "    size = (width,height)\n",
        "    img_array.append(img)\n",
        "\n",
        "out_video = \"where_was_i.mp4\" \n",
        "fourcc = cv2.VideoWriter_fourcc(*'mp4v') \n",
        "out = cv2.VideoWriter(out_video,fourcc,1,(width,height)) \n",
        "for i in range(len(img_array)):\n",
        "    out.write(img_array[i])\n",
        "\n",
        "# write last image 3 times to let it linger\n",
        "out.write(img_array[i])\n",
        "out.write(img_array[i])\n",
        "\n",
        "out.release()"
      ],
      "execution_count": 0,
      "outputs": []
    },
    {
      "cell_type": "code",
      "metadata": {
        "id": "TxMCYWhoE_pO",
        "colab_type": "code",
        "colab": {}
      },
      "source": [
        "from google.colab import files\n",
        "files.download(out_video) "
      ],
      "execution_count": 0,
      "outputs": []
    }
  ]
}