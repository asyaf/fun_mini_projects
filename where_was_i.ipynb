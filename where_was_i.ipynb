{
  "nbformat": 4,
  "nbformat_minor": 0,
  "metadata": {
    "colab": {
      "name": "where_was_i.ipynb",
      "provenance": [],
      "include_colab_link": true
    },
    "kernelspec": {
      "name": "python3",
      "display_name": "Python 3"
    }
  },
  "cells": [
    {
      "cell_type": "markdown",
      "metadata": {
        "id": "view-in-github",
        "colab_type": "text"
      },
      "source": [
        "<a href=\"https://colab.research.google.com/github/asyaf/fun_mini_projects/blob/master/where_was_i.ipynb\" target=\"_parent\"><img src=\"https://colab.research.google.com/assets/colab-badge.svg\" alt=\"Open In Colab\"/></a>"
      ]
    },
    {
      "cell_type": "code",
      "metadata": {
        "id": "nER9PySV6iCB",
        "colab_type": "code",
        "colab": {
          "base_uri": "https://localhost:8080/",
          "height": 777
        },
        "outputId": "0fbfcedb-392b-4ddb-d86a-0be4e155d507"
      },
      "source": [
        "!apt-get -qq install python-cartopy python3-cartopy\n",
        "import cartopy.crs as ccrs\n",
        "import cv2\n",
        "import cartopy.io.shapereader as shpreader\n",
        "import itertools\n",
        "import matplotlib.pyplot as plt\n",
        "import matplotlib.image as mpimg\n",
        "import numpy as np\n",
        "%matplotlib inline"
      ],
      "execution_count": 1,
      "outputs": [
        {
          "output_type": "stream",
          "text": [
            "Selecting previously unselected package python-pkg-resources.\n",
            "(Reading database ... \r(Reading database ... 5%\r(Reading database ... 10%\r(Reading database ... 15%\r(Reading database ... 20%\r(Reading database ... 25%\r(Reading database ... 30%\r(Reading database ... 35%\r(Reading database ... 40%\r(Reading database ... 45%\r(Reading database ... 50%\r(Reading database ... 55%\r(Reading database ... 60%\r(Reading database ... 65%\r(Reading database ... 70%\r(Reading database ... 75%\r(Reading database ... 80%\r(Reading database ... 85%\r(Reading database ... 90%\r(Reading database ... 95%\r(Reading database ... 100%\r(Reading database ... 134983 files and directories currently installed.)\n",
            "Preparing to unpack .../0-python-pkg-resources_39.0.1-2_all.deb ...\n",
            "Unpacking python-pkg-resources (39.0.1-2) ...\n",
            "Selecting previously unselected package python-pyshp.\n",
            "Preparing to unpack .../1-python-pyshp_1.2.12+ds-1_all.deb ...\n",
            "Unpacking python-pyshp (1.2.12+ds-1) ...\n",
            "Selecting previously unselected package python-shapely.\n",
            "Preparing to unpack .../2-python-shapely_1.6.4-1_amd64.deb ...\n",
            "Unpacking python-shapely (1.6.4-1) ...\n",
            "Selecting previously unselected package python-six.\n",
            "Preparing to unpack .../3-python-six_1.11.0-2_all.deb ...\n",
            "Unpacking python-six (1.11.0-2) ...\n",
            "Selecting previously unselected package python-cartopy:amd64.\n",
            "Preparing to unpack .../4-python-cartopy_0.14.2+dfsg1-2build3_amd64.deb ...\n",
            "Unpacking python-cartopy:amd64 (0.14.2+dfsg1-2build3) ...\n",
            "Selecting previously unselected package python3-pkg-resources.\n",
            "Preparing to unpack .../5-python3-pkg-resources_39.0.1-2_all.deb ...\n",
            "Unpacking python3-pkg-resources (39.0.1-2) ...\n",
            "Selecting previously unselected package python3-pyshp.\n",
            "Preparing to unpack .../6-python3-pyshp_1.2.12+ds-1_all.deb ...\n",
            "Unpacking python3-pyshp (1.2.12+ds-1) ...\n",
            "Selecting previously unselected package python3-shapely.\n",
            "Preparing to unpack .../7-python3-shapely_1.6.4-1_amd64.deb ...\n",
            "Unpacking python3-shapely (1.6.4-1) ...\n",
            "Selecting previously unselected package python3-six.\n",
            "Preparing to unpack .../8-python3-six_1.11.0-2_all.deb ...\n",
            "Unpacking python3-six (1.11.0-2) ...\n",
            "Selecting previously unselected package python3-cartopy:amd64.\n",
            "Preparing to unpack .../9-python3-cartopy_0.14.2+dfsg1-2build3_amd64.deb ...\n",
            "Unpacking python3-cartopy:amd64 (0.14.2+dfsg1-2build3) ...\n",
            "Setting up python-shapely (1.6.4-1) ...\n",
            "Setting up python-pyshp (1.2.12+ds-1) ...\n",
            "Setting up python3-six (1.11.0-2) ...\n",
            "Setting up python3-shapely (1.6.4-1) ...\n",
            "Setting up python3-pyshp (1.2.12+ds-1) ...\n",
            "Setting up python3-pkg-resources (39.0.1-2) ...\n",
            "Setting up python-pkg-resources (39.0.1-2) ...\n",
            "Setting up python-six (1.11.0-2) ...\n",
            "Setting up python3-cartopy:amd64 (0.14.2+dfsg1-2build3) ...\n",
            "Setting up python-cartopy:amd64 (0.14.2+dfsg1-2build3) ...\n"
          ],
          "name": "stdout"
        }
      ]
    },
    {
      "cell_type": "code",
      "metadata": {
        "id": "bsFoRd7AHzsB",
        "colab_type": "code",
        "colab": {}
      },
      "source": [
        "COUNTRY_COLOR = np.array([(35, 139, 69)]) / 255.\n",
        "DEFAULT_COLOR = np.zeros(3)\n",
        "\n",
        "VISITED_COUNTRIES_BY_YEAR = {2019: [\"Argentina\", \"Brazil\", \"Chile\", \"Bolivia\", \"Peru\", \"Ecuador\", \"Colombia\"], \n",
        "                             2018: [\"United Republic of Tanzania\", \"Czechia\", \"Bosnia and Herzogovina\"],\n",
        "                             2017: [\"France\", \"Switzerland\", \"Germany\", \"Austria\"],\n",
        "                             2016: [\"Jordan\", \"United States of America\", \"Germany\", \"Vietnam\"],\n",
        "                             2015: [\"United States of America\", \"Kyrgistan\"],\n",
        "                             2014: [\"Albania\", \"Montenegro\"],\n",
        "                             2013: [\"Georgia\"],\n",
        "                             2012: [\"Nepal\"],\n",
        "                             2010: [\"South Korea\", \"New Zealand\"],\n",
        "                             2008: [\"Spain\"],\n",
        "                             2004: [\"Poland\"],\n",
        "                             2003: [\"Russia\"],\n",
        "                             2002: [\"Netherlands\"],\n",
        "                             2000: [\"Italy\"],\n",
        "                             1990: [\"Israel\"],\n",
        "                             1987: [\"Russia\"]}"
      ],
      "execution_count": 0,
      "outputs": []
    },
    {
      "cell_type": "code",
      "metadata": {
        "id": "cihaDlvf6XMA",
        "colab_type": "code",
        "colab": {}
      },
      "source": [
        "shapename = 'admin_0_countries'\n",
        "countries_shp = shpreader.natural_earth(resolution='110m',\n",
        "                                        category='cultural', name=shapename)\n",
        "\n",
        "plt.figure(figsize=(10,10))\n",
        "ax = plt.axes(projection=ccrs.PlateCarree())\n",
        "img_files = []\n",
        "# show all countries in default color\n",
        "# also, create a map of coutry names\n",
        "country_name_to_record = {}\n",
        "for country in shpreader.Reader(countries_shp).records():\n",
        "  country_name = country.attributes['SOVEREIGNT']\n",
        "  country_name_to_record[country_name] = country\n",
        "  ax.add_geometries(country.geometry, ccrs.PlateCarree(),\n",
        "                       facecolor=DEFAULT_COLOR,\n",
        "                       label=country_name)\n",
        "\n",
        "# color visited\n",
        "sorted_years = sorted(VISITED_COUNTRIES_BY_YEAR.keys())\n",
        "visited_set = set()\n",
        "for year in range(sorted_years[0], sorted_years[-1]+1):\n",
        "  if year in VISITED_COUNTRIES_BY_YEAR:\n",
        "    visited = VISITED_COUNTRIES_BY_YEAR[year]\n",
        "  else:\n",
        "    visited = None\n",
        "  if visited is not None:\n",
        "    for country_name, country in country_name_to_record.items():\n",
        "      # check if country name is contained. Note that official names can differ \n",
        "      # from the \"common\" country name \n",
        "      if country_name in visited:\n",
        "        ax.add_geometries(country.geometry, ccrs.PlateCarree(),\n",
        "                       facecolor=COUNTRY_COLOR,\n",
        "                       label=country_name)\n",
        "        visited_set.add(country_name)\n",
        "\n",
        "  # add text\n",
        "  year_itm = ax.text(0.15, 0.2, year, fontsize=15, color = \"red\", \n",
        "        ha='center', va='center', transform=ax.transAxes)\n",
        "  count_itm = ax.text(0.9, 0.2, len(visited_set), fontsize=15, color = \"red\", \n",
        "        ha='center', va='center', transform=ax.transAxes)\n",
        "  img_file = \"{}.png\".format(year)\n",
        "  plt.savefig(img_file, bbox_inches='tight', pad_inches=0)\n",
        "  img_files.append(img_file)\n",
        "\n",
        "  # prevent writing text over the next instances\n",
        "  year_itm.set_visible(False)\n",
        "  count_itm.set_visible(False)\n",
        "\n",
        "plt.close()"
      ],
      "execution_count": 0,
      "outputs": []
    },
    {
      "cell_type": "code",
      "metadata": {
        "id": "dqXu16AR654q",
        "colab_type": "code",
        "outputId": "8dd4a49b-1888-4ae3-bfeb-682f386c8d2d",
        "colab": {
          "base_uri": "https://localhost:8080/",
          "height": 237
        }
      },
      "source": [
        "# see last image\n",
        "img = mpimg.imread(img_file)\n",
        "plt.imshow(img)"
      ],
      "execution_count": 5,
      "outputs": [
        {
          "output_type": "execute_result",
          "data": {
            "text/plain": [
              "<matplotlib.image.AxesImage at 0x7fe5885990f0>"
            ]
          },
          "metadata": {
            "tags": []
          },
          "execution_count": 5
        },
        {
          "output_type": "display_data",
          "data": {
            "image/png": "[encoded data removed]",
            "text/plain": [
              "<Figure size 432x288 with 1 Axes>"
            ]
          },
          "metadata": {
            "tags": []
          }
        }
      ]
    },
    {
      "cell_type": "code",
      "metadata": {
        "id": "JHP8fK4RA9Dw",
        "colab_type": "code",
        "colab": {}
      },
      "source": [
        "img_array = []\n",
        "for filename in img_files:\n",
        "    img = cv2.imread(filename)\n",
        "    height, width, layers = img.shape\n",
        "    size = (width,height)\n",
        "    img_array.append(img)\n",
        "\n",
        "out_video = \"where_was_i.mp4\" \n",
        "fourcc = cv2.VideoWriter_fourcc(*'mp4v') \n",
        "out = cv2.VideoWriter(out_video,fourcc,1,(width,height)) \n",
        "for i in range(len(img_array)):\n",
        "    out.write(img_array[i])\n",
        "\n",
        "# write last image 3 times to let it linger\n",
        "out.write(img_array[i])\n",
        "out.write(img_array[i])\n",
        "\n",
        "out.release()"
      ],
      "execution_count": 0,
      "outputs": []
    },
    {
      "cell_type": "code",
      "metadata": {
        "id": "TxMCYWhoE_pO",
        "colab_type": "code",
        "colab": {}
      },
      "source": [
        "from google.colab import files\n",
        "files.download(out_video) "
      ],
      "execution_count": 0,
      "outputs": []
    }
  ]
}