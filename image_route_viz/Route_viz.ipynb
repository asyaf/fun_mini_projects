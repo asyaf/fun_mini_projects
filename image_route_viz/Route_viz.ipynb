{
 "cells": [
  {
   "cell_type": "code",
   "execution_count": 1,
   "metadata": {},
   "outputs": [],
   "source": [
    "import folium\n",
    "import glob\n",
    "import os\n",
    "\n",
    "from IPython.display import display\n",
    "from PIL import Image\n",
    "from PIL.ExifTags import TAGS, GPSTAGS"
   ]
  },
  {
   "cell_type": "code",
   "execution_count": 2,
   "metadata": {},
   "outputs": [],
   "source": [
    "DATA_DIR = 'example'\n",
    "IMG_EXT = '.jpg'\n",
    "\n",
    "GPS_EXIF_TAG = 'GPSInfo'\n",
    "GPS_LAT_TAG = 'GPSLatitude'\n",
    "GPS_LONG_TAG = 'GPSLongitude'\n",
    "\n",
    "JERUSALEM_COORD = [31.7683, 35.2137]\n",
    "DEFAULT_ZOOM = 7"
   ]
  },
  {
   "cell_type": "code",
   "execution_count": 28,
   "metadata": {},
   "outputs": [],
   "source": [
    "def load_images(dirname):\n",
    "    glob_expr = os.path.join(dirname, '*{}'.format(IMG_EXT))\n",
    "    img_files = glob.glob(glob_expr)\n",
    "    images = []\n",
    "    for img_file in img_files:\n",
    "        img = Image.open(img_file)\n",
    "        images.append(img)\n",
    "    return images\n",
    "\n",
    "def get_gps_img_data(exif_data):\n",
    "    for tag_id in exif_data:\n",
    "        # get the tag name, instead of human unreadable tag id\n",
    "        tag = TAGS.get(tag_id)\n",
    "        if tag == GPS_EXIF_TAG:\n",
    "            data = exif_data.get(tag_id)\n",
    "            return data\n",
    "    return None\n",
    "\n",
    "def dms_to_dec(dms):\n",
    "    # currently handling only N and E\n",
    "    degree, minute, second = dms\n",
    "    return int(degree) + float(minute) / 60 + float(second) / 3600\n",
    "\n",
    "def gps_info_to_coord(gps_info):\n",
    "    for tag_id, value in gps_info.items():\n",
    "        tag = GPSTAGS.get(tag_id)\n",
    "        if tag == GPS_LAT_TAG:\n",
    "            lat = dms_to_dec(value)\n",
    "        elif tag == GPS_LONG_TAG:\n",
    "            long = dms_to_dec(value)\n",
    "    return lat, long\n",
    "\n",
    "def get_images_coords(images):\n",
    "    coords = []\n",
    "    for img in images:\n",
    "        exif_data = img.getexif()\n",
    "        gps_data = get_gps_img_data(exif_data)\n",
    "        if gps_data is not None and len(gps_data) > 0:\n",
    "            lat, long = gps_info_to_coord(gps_data)\n",
    "            coords.append((lat, long))\n",
    "    return coords"
   ]
  },
  {
   "cell_type": "code",
   "execution_count": 29,
   "metadata": {},
   "outputs": [],
   "source": [
    "images = load_images(DATA_DIR)"
   ]
  },
  {
   "cell_type": "code",
   "execution_count": 30,
   "metadata": {},
   "outputs": [],
   "source": [
    "coords = get_images_coords(images)"
   ]
  },
  {
   "cell_type": "code",
   "execution_count": 31,
   "metadata": {
    "scrolled": true
   },
   "outputs": [
    {
     "data": {
      "text/html": [
       "<div style=\"width:100%;\"><div style=\"position:relative;width:100%;height:0;padding-bottom:60%;\"><span style=\"color:#565656\">Make this Notebook Trusted to load map: File -> Trust Notebook</span><iframe src=\"about:blank\" style=\"position:absolute;width:100%;height:100%;left:0;top:0;border:none !important;\" data-html=PCFET0NUWVBFIGh0bWw+CjxoZWFkPiAgICAKICAgIDxtZXRhIGh0dHAtZXF1aXY9ImNvbnRlbnQtdHlwZSIgY29udGVudD0idGV4dC9odG1sOyBjaGFyc2V0PVVURi04IiAvPgogICAgCiAgICAgICAgPHNjcmlwdD4KICAgICAgICAgICAgTF9OT19UT1VDSCA9IGZhbHNlOwogICAgICAgICAgICBMX0RJU0FCTEVfM0QgPSBmYWxzZTsKICAgICAgICA8L3NjcmlwdD4KICAgIAogICAgPHNjcmlwdCBzcmM9Imh0dHBzOi8vY2RuLmpzZGVsaXZyLm5ldC9ucG0vbGVhZmxldEAxLjYuMC9kaXN0L2xlYWZsZXQuanMiPjwvc2NyaXB0PgogICAgPHNjcmlwdCBzcmM9Imh0dHBzOi8vY29kZS5qcXVlcnkuY29tL2pxdWVyeS0xLjEyLjQubWluLmpzIj48L3NjcmlwdD4KICAgIDxzY3JpcHQgc3JjPSJodHRwczovL21heGNkbi5ib290c3RyYXBjZG4uY29tL2Jvb3RzdHJhcC8zLjIuMC9qcy9ib290c3RyYXAubWluLmpzIj48L3NjcmlwdD4KICAgIDxzY3JpcHQgc3JjPSJodHRwczovL2NkbmpzLmNsb3VkZmxhcmUuY29tL2FqYXgvbGlicy9MZWFmbGV0LmF3ZXNvbWUtbWFya2Vycy8yLjAuMi9sZWFmbGV0LmF3ZXNvbWUtbWFya2Vycy5qcyI+PC9zY3JpcHQ+CiAgICA8bGluayByZWw9InN0eWxlc2hlZXQiIGhyZWY9Imh0dHBzOi8vY2RuLmpzZGVsaXZyLm5ldC9ucG0vbGVhZmxldEAxLjYuMC9kaXN0L2xlYWZsZXQuY3NzIi8+CiAgICA8bGluayByZWw9InN0eWxlc2hlZXQiIGhyZWY9Imh0dHBzOi8vbWF4Y2RuLmJvb3RzdHJhcGNkbi5jb20vYm9vdHN0cmFwLzMuMi4wL2Nzcy9ib290c3RyYXAubWluLmNzcyIvPgogICAgPGxpbmsgcmVsPSJzdHlsZXNoZWV0IiBocmVmPSJodHRwczovL21heGNkbi5ib290c3RyYXBjZG4uY29tL2Jvb3RzdHJhcC8zLjIuMC9jc3MvYm9vdHN0cmFwLXRoZW1lLm1pbi5jc3MiLz4KICAgIDxsaW5rIHJlbD0ic3R5bGVzaGVldCIgaHJlZj0iaHR0cHM6Ly9tYXhjZG4uYm9vdHN0cmFwY2RuLmNvbS9mb250LWF3ZXNvbWUvNC42LjMvY3NzL2ZvbnQtYXdlc29tZS5taW4uY3NzIi8+CiAgICA8bGluayByZWw9InN0eWxlc2hlZXQiIGhyZWY9Imh0dHBzOi8vY2RuanMuY2xvdWRmbGFyZS5jb20vYWpheC9saWJzL0xlYWZsZXQuYXdlc29tZS1tYXJrZXJzLzIuMC4yL2xlYWZsZXQuYXdlc29tZS1tYXJrZXJzLmNzcyIvPgogICAgPGxpbmsgcmVsPSJzdHlsZXNoZWV0IiBocmVmPSJodHRwczovL3Jhd2Nkbi5naXRoYWNrLmNvbS9weXRob24tdmlzdWFsaXphdGlvbi9mb2xpdW0vbWFzdGVyL2ZvbGl1bS90ZW1wbGF0ZXMvbGVhZmxldC5hd2Vzb21lLnJvdGF0ZS5jc3MiLz4KICAgIDxzdHlsZT5odG1sLCBib2R5IHt3aWR0aDogMTAwJTtoZWlnaHQ6IDEwMCU7bWFyZ2luOiAwO3BhZGRpbmc6IDA7fTwvc3R5bGU+CiAgICA8c3R5bGU+I21hcCB7cG9zaXRpb246YWJzb2x1dGU7dG9wOjA7Ym90dG9tOjA7cmlnaHQ6MDtsZWZ0OjA7fTwvc3R5bGU+CiAgICAKICAgICAgICAgICAgPG1ldGEgbmFtZT0idmlld3BvcnQiIGNvbnRlbnQ9IndpZHRoPWRldmljZS13aWR0aCwKICAgICAgICAgICAgICAgIGluaXRpYWwtc2NhbGU9MS4wLCBtYXhpbXVtLXNjYWxlPTEuMCwgdXNlci1zY2FsYWJsZT1ubyIgLz4KICAgICAgICAgICAgPHN0eWxlPgogICAgICAgICAgICAgICAgI21hcF8yYTIxMTlkNTNlNTE0NTdhOWQ1ZGUyMjMxOTBlN2YyYiB7CiAgICAgICAgICAgICAgICAgICAgcG9zaXRpb246IHJlbGF0aXZlOwogICAgICAgICAgICAgICAgICAgIHdpZHRoOiAxMDAuMCU7CiAgICAgICAgICAgICAgICAgICAgaGVpZ2h0OiAxMDAuMCU7CiAgICAgICAgICAgICAgICAgICAgbGVmdDogMC4wJTsKICAgICAgICAgICAgICAgICAgICB0b3A6IDAuMCU7CiAgICAgICAgICAgICAgICB9CiAgICAgICAgICAgIDwvc3R5bGU+CiAgICAgICAgCjwvaGVhZD4KPGJvZHk+ICAgIAogICAgCiAgICAgICAgICAgIDxkaXYgY2xhc3M9ImZvbGl1bS1tYXAiIGlkPSJtYXBfMmEyMTE5ZDUzZTUxNDU3YTlkNWRlMjIzMTkwZTdmMmIiID48L2Rpdj4KICAgICAgICAKPC9ib2R5Pgo8c2NyaXB0PiAgICAKICAgIAogICAgICAgICAgICB2YXIgbWFwXzJhMjExOWQ1M2U1MTQ1N2E5ZDVkZTIyMzE5MGU3ZjJiID0gTC5tYXAoCiAgICAgICAgICAgICAgICAibWFwXzJhMjExOWQ1M2U1MTQ1N2E5ZDVkZTIyMzE5MGU3ZjJiIiwKICAgICAgICAgICAgICAgIHsKICAgICAgICAgICAgICAgICAgICBjZW50ZXI6IFszMS43NjgzLCAzNS4yMTM3XSwKICAgICAgICAgICAgICAgICAgICBjcnM6IEwuQ1JTLkVQU0czODU3LAogICAgICAgICAgICAgICAgICAgIHpvb206IDcsCiAgICAgICAgICAgICAgICAgICAgem9vbUNvbnRyb2w6IHRydWUsCiAgICAgICAgICAgICAgICAgICAgcHJlZmVyQ2FudmFzOiBmYWxzZSwKICAgICAgICAgICAgICAgIH0KICAgICAgICAgICAgKTsKCiAgICAgICAgICAgIAoKICAgICAgICAKICAgIAogICAgICAgICAgICB2YXIgdGlsZV9sYXllcl8zZWM4ZmM4MGQ0MWY0NTRiODQ1YTQ5OGMxMDVkYTAyNSA9IEwudGlsZUxheWVyKAogICAgICAgICAgICAgICAgImh0dHBzOi8ve3N9LnRpbGUub3BlbnN0cmVldG1hcC5vcmcve3p9L3t4fS97eX0ucG5nIiwKICAgICAgICAgICAgICAgIHsiYXR0cmlidXRpb24iOiAiRGF0YSBieSBcdTAwMjZjb3B5OyBcdTAwM2NhIGhyZWY9XCJodHRwOi8vb3BlbnN0cmVldG1hcC5vcmdcIlx1MDAzZU9wZW5TdHJlZXRNYXBcdTAwM2MvYVx1MDAzZSwgdW5kZXIgXHUwMDNjYSBocmVmPVwiaHR0cDovL3d3dy5vcGVuc3RyZWV0bWFwLm9yZy9jb3B5cmlnaHRcIlx1MDAzZU9EYkxcdTAwM2MvYVx1MDAzZS4iLCAiZGV0ZWN0UmV0aW5hIjogZmFsc2UsICJtYXhOYXRpdmVab29tIjogMTgsICJtYXhab29tIjogMTgsICJtaW5ab29tIjogMCwgIm5vV3JhcCI6IGZhbHNlLCAib3BhY2l0eSI6IDEsICJzdWJkb21haW5zIjogImFiYyIsICJ0bXMiOiBmYWxzZX0KICAgICAgICAgICAgKS5hZGRUbyhtYXBfMmEyMTE5ZDUzZTUxNDU3YTlkNWRlMjIzMTkwZTdmMmIpOwogICAgICAgIAogICAgCiAgICAgICAgICAgIHZhciBtYXJrZXJfMDhmZWMxYmYyZmFhNGQ4ZGI1NDQ2ODc1NzUyMTk1NTUgPSBMLm1hcmtlcigKICAgICAgICAgICAgICAgIFszMi43MDIzNDA5NzIyMjIyMjQsIDM1LjI5NzA4Nl0sCiAgICAgICAgICAgICAgICB7fQogICAgICAgICAgICApLmFkZFRvKG1hcF8yYTIxMTlkNTNlNTE0NTdhOWQ1ZGUyMjMxOTBlN2YyYik7CiAgICAgICAgCiAgICAKICAgICAgICAgICAgdmFyIG1hcmtlcl80M2FkMWNiMWU1ZDM0M2FjYWQzNjcyNzY0MzI1MGI1NyA9IEwubWFya2VyKAogICAgICAgICAgICAgICAgWzMyLjc0NzA0Nzk3MjIyMjIzLCAzNS4yOTIyODc5NzIyMjIyMl0sCiAgICAgICAgICAgICAgICB7fQogICAgICAgICAgICApLmFkZFRvKG1hcF8yYTIxMTlkNTNlNTE0NTdhOWQ1ZGUyMjMxOTBlN2YyYik7CiAgICAgICAgCiAgICAKICAgICAgICAgICAgdmFyIG1hcmtlcl9lYWU1ZGI5YjRmZTg0Y2EyYTI3NTVmOGQ4ZjAzN2E4YSA9IEwubWFya2VyKAogICAgICAgICAgICAgICAgWzMyLjc5OTY0NywgMzUuNDU4Mjk3XSwKICAgICAgICAgICAgICAgIHt9CiAgICAgICAgICAgICkuYWRkVG8obWFwXzJhMjExOWQ1M2U1MTQ1N2E5ZDVkZTIyMzE5MGU3ZjJiKTsKICAgICAgICAKICAgIAogICAgICAgICAgICB2YXIgbWFya2VyX2YxYWY5NmIwZjc2ZjQ1OWFiNDFhMjk0YjVkY2UzYTdhID0gTC5tYXJrZXIoCiAgICAgICAgICAgICAgICBbMzIuODI0NzQ0LCAzNS40OTk2Mzc5NzIyMjIyMjRdLAogICAgICAgICAgICAgICAge30KICAgICAgICAgICAgKS5hZGRUbyhtYXBfMmEyMTE5ZDUzZTUxNDU3YTlkNWRlMjIzMTkwZTdmMmIpOwogICAgICAgIAogICAgCiAgICAgICAgICAgIHZhciBtYXJrZXJfN2UzNmE0MjFjNTIxNGQ0ZDg4ZGFiZThlMDA0NDYxYjQgPSBMLm1hcmtlcigKICAgICAgICAgICAgICAgIFszMi44NTY5MTIsIDM1LjUzNDA3MDk3MjIyMjIyXSwKICAgICAgICAgICAgICAgIHt9CiAgICAgICAgICAgICkuYWRkVG8obWFwXzJhMjExOWQ1M2U1MTQ1N2E5ZDVkZTIyMzE5MGU3ZjJiKTsKICAgICAgICAKICAgIAogICAgICAgICAgICB2YXIgbWFya2VyXzU2NWM0NzUyZmQwMTQzMmFiNjVkYjZiODMwYjcyMDFhID0gTC5tYXJrZXIoCiAgICAgICAgICAgICAgICBbMzIuODYyOTE1OTcyMjIyMjI1LCAzNS41Mzc1MTg5OTk5OTk5OTZdLAogICAgICAgICAgICAgICAge30KICAgICAgICAgICAgKS5hZGRUbyhtYXBfMmEyMTE5ZDUzZTUxNDU3YTlkNWRlMjIzMTkwZTdmMmIpOwogICAgICAgIAo8L3NjcmlwdD4= onload=\"this.contentDocument.open();this.contentDocument.write(atob(this.getAttribute('data-html')));this.contentDocument.close();\" allowfullscreen webkitallowfullscreen mozallowfullscreen></iframe></div></div>"
      ],
      "text/plain": [
       "<folium.folium.Map at 0x211f12c4048>"
      ]
     },
     "execution_count": 31,
     "metadata": {},
     "output_type": "execute_result"
    }
   ],
   "source": [
    "fmap = folium.Map(location=JERUSALEM_COORD, zoom_start=DEFAULT_ZOOM)\n",
    "for coord in coords:\n",
    "    folium.Marker(coord).add_to(fmap)\n",
    "fmap"
   ]
  },
  {
   "cell_type": "code",
   "execution_count": null,
   "metadata": {},
   "outputs": [],
   "source": []
  }
 ],
 "metadata": {
  "kernelspec": {
   "display_name": "route_viz_env",
   "language": "python",
   "name": "route_viz_env"
  },
  "language_info": {
   "codemirror_mode": {
    "name": "ipython",
    "version": 3
   },
   "file_extension": ".py",
   "mimetype": "text/x-python",
   "name": "python",
   "nbconvert_exporter": "python",
   "pygments_lexer": "ipython3",
   "version": "3.7.5"
  }
 },
 "nbformat": 4,
 "nbformat_minor": 4
}
